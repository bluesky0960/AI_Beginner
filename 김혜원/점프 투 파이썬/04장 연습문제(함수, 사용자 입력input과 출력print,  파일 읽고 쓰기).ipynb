{
 "cells": [
  {
   "cell_type": "markdown",
   "id": "3f4ec7d8",
   "metadata": {},
   "source": [
    "> 파이썬 함수의 구조"
   ]
  },
  {
   "cell_type": "markdown",
   "id": "e8970f4b",
   "metadata": {},
   "source": [
    "def 함수명(매개변수):  \n",
    "\n",
    "    <수행할 문장1>  \n",
    "    <수행할 문장2>  \n",
    "    ..."
   ]
  },
  {
   "cell_type": "markdown",
   "id": "118f5a98",
   "metadata": {},
   "source": [
    "- 매개변수(parameter) : 함수에 입력으로 전달된 값을 받는 변수  \n",
    "- 인수(arguments) : 인수는 함수를 호출할 때 전달하는 입력값"
   ]
  },
  {
   "cell_type": "code",
   "execution_count": null,
   "id": "977b1f63",
   "metadata": {},
   "outputs": [],
   "source": [
    "def add(a, b):  # a, b는 매개변수\n",
    "    return a+b\n",
    "\n",
    "print(add(3, 4))  # 3, 4는 인수"
   ]
  },
  {
   "cell_type": "markdown",
   "id": "3d2a47e0",
   "metadata": {},
   "source": [
    "Q1. 주어진 자연수가 홀수인지 짝수인지 판별해 주는 함수(is_odd)를 작성해 보자."
   ]
  },
  {
   "cell_type": "code",
   "execution_count": 57,
   "id": "b0cc8204",
   "metadata": {},
   "outputs": [],
   "source": [
    "def is_odd(i) :\n",
    "    if i % 2 == 0 :\n",
    "        print('짝수')\n",
    "    elif i % 2 == 1 :\n",
    "        print('홀수')"
   ]
  },
  {
   "cell_type": "code",
   "execution_count": 59,
   "id": "58dcc7cf",
   "metadata": {
    "scrolled": true
   },
   "outputs": [
    {
     "name": "stdout",
     "output_type": "stream",
     "text": [
      "홀수\n"
     ]
    }
   ],
   "source": [
    "is_odd(9)"
   ]
  },
  {
   "cell_type": "code",
   "execution_count": 60,
   "id": "254a557d",
   "metadata": {},
   "outputs": [
    {
     "name": "stdout",
     "output_type": "stream",
     "text": [
      "짝수\n"
     ]
    }
   ],
   "source": [
    "is_odd(10)"
   ]
  },
  {
   "cell_type": "code",
   "execution_count": 61,
   "id": "85c2cc31",
   "metadata": {},
   "outputs": [],
   "source": [
    "def is_odd(i) :\n",
    "    if i % 2 == 1:\n",
    "        return True\n",
    "    else :\n",
    "        return False"
   ]
  },
  {
   "cell_type": "code",
   "execution_count": 62,
   "id": "4503a202",
   "metadata": {},
   "outputs": [
    {
     "data": {
      "text/plain": [
       "True"
      ]
     },
     "execution_count": 62,
     "metadata": {},
     "output_type": "execute_result"
    }
   ],
   "source": [
    "is_odd(9)"
   ]
  },
  {
   "cell_type": "code",
   "execution_count": 63,
   "id": "7c6c835f",
   "metadata": {},
   "outputs": [
    {
     "data": {
      "text/plain": [
       "False"
      ]
     },
     "execution_count": 63,
     "metadata": {},
     "output_type": "execute_result"
    }
   ],
   "source": [
    "is_odd(10)"
   ]
  },
  {
   "cell_type": "markdown",
   "id": "d25e9b13",
   "metadata": {},
   "source": [
    "Q2. 입력으로 들어오는 모든 수의 평균 값을 계산해 주는 함수를 작성해 보자. (단 입력으로 들어오는 수의 개수는 정해져 있지 않다.)\n",
    "\n",
    "※ 평균 값을 구할 때 len 함수를 사용해 보자."
   ]
  },
  {
   "cell_type": "markdown",
   "id": "20223cf6",
   "metadata": {},
   "source": [
    "> def 함수이름(*매개변수):   \n",
    "    <수행할 문장>"
   ]
  },
  {
   "cell_type": "markdown",
   "id": "37f125cc",
   "metadata": {},
   "source": [
    "- 여러 개의 입력값을 받는 함수 만들기 : *args  \n",
    "- 매개변수 이름 앞에 * 를 붙이면 입력값을 전부 모아 튜플로 만들어준다."
   ]
  },
  {
   "cell_type": "code",
   "execution_count": 81,
   "id": "9dfbea46",
   "metadata": {},
   "outputs": [],
   "source": [
    "def mean(*args) :\n",
    "    tot = 0\n",
    "    for i in args :\n",
    "        tot += i\n",
    "        mean = tot / len(args)\n",
    "    return mean"
   ]
  },
  {
   "cell_type": "code",
   "execution_count": 84,
   "id": "3fe5a668",
   "metadata": {},
   "outputs": [
    {
     "data": {
      "text/plain": [
       "2.0"
      ]
     },
     "execution_count": 84,
     "metadata": {},
     "output_type": "execute_result"
    }
   ],
   "source": [
    "mean(1, 2, 3)"
   ]
  },
  {
   "cell_type": "code",
   "execution_count": 85,
   "id": "6bb6ba1d",
   "metadata": {},
   "outputs": [],
   "source": [
    "def avg(n) :\n",
    "    n = list(map(int, input().split()))\n",
    "    total = sum(n)\n",
    "    avg = sum(n) / len(n)\n",
    "    return avg"
   ]
  },
  {
   "cell_type": "code",
   "execution_count": 86,
   "id": "d9909551",
   "metadata": {},
   "outputs": [
    {
     "name": "stdout",
     "output_type": "stream",
     "text": [
      "1 2 3\n"
     ]
    },
    {
     "data": {
      "text/plain": [
       "2.0"
      ]
     },
     "execution_count": 86,
     "metadata": {},
     "output_type": "execute_result"
    }
   ],
   "source": [
    "avg(n)"
   ]
  },
  {
   "cell_type": "markdown",
   "id": "3791d19e",
   "metadata": {},
   "source": [
    "Q3. 다음은 두 개의 숫자를 입력받아 더하여 돌려주는 프로그램이다.\n",
    "\n",
    "input1 = input(\"첫번째 숫자를 입력하세요:\")  \n",
    "input2 = input(\"두번째 숫자를 입력하세요:\")  \n",
    "\n",
    "total = input1 + input2  \n",
    "print(\"두 수의 합은 %s 입니다\" % total)  \n",
    "이 프로그램을 수행해 보자."
   ]
  },
  {
   "cell_type": "markdown",
   "id": "dfe33278",
   "metadata": {},
   "source": [
    "첫번째 숫자를 입력하세요:3  \n",
    "두번째 숫자를 입력하세요:6  \n",
    "두 수의 합은 36 입니다  \n",
    "\n",
    "3과 6을 입력했을 때 9가 아닌 36이라는 결괏값을 돌려주었다. 이 프로그램의 오류를 수정해 보자.\n",
    "\n",
    "※ int 함수를 사용해 보자."
   ]
  },
  {
   "cell_type": "code",
   "execution_count": 26,
   "id": "c5e986fc",
   "metadata": {},
   "outputs": [
    {
     "name": "stdout",
     "output_type": "stream",
     "text": [
      "첫번째 숫자를 입력하세요:3\n",
      "두번째 숫자를 입력하세요:6\n",
      "두 수의 합은 9 입니다\n"
     ]
    }
   ],
   "source": [
    "input1 = int(input(\"첫번째 숫자를 입력하세요:\"))\n",
    "input2 = int(input(\"두번째 숫자를 입력하세요:\"))\n",
    "total = input1 + input2\n",
    "print(\"두 수의 합은 %s 입니다\" % total)"
   ]
  },
  {
   "cell_type": "code",
   "execution_count": 87,
   "id": "6e421def",
   "metadata": {},
   "outputs": [
    {
     "name": "stdout",
     "output_type": "stream",
     "text": [
      "첫번째 숫자를 입력하세요:3\n",
      "두번째 숫자를 입력하세요:6\n",
      "두 수의 합은 9 입니다\n"
     ]
    }
   ],
   "source": [
    "input1 = input(\"첫번째 숫자를 입력하세요:\")\n",
    "input2 = input(\"두번째 숫자를 입력하세요:\")\n",
    "total = int(input1) + int(input2)\n",
    "print(\"두 수의 합은 %s 입니다\" % total)"
   ]
  },
  {
   "cell_type": "markdown",
   "id": "d0e5e934",
   "metadata": {},
   "source": [
    "Q4. 다음 중 출력 결과가 다른 것 한 개를 골라 보자.\n",
    "\n",
    "print(\"you\" \"need\" \"python\")  \n",
    "print(\"you\"+\"need\"+\"python\")  \n",
    "print(\"you\", \"need\", \"python\")  \n",
    "print(\"\".join([\"you\", \"need\", \"python\"]))"
   ]
  },
  {
   "cell_type": "code",
   "execution_count": 29,
   "id": "b4889def",
   "metadata": {},
   "outputs": [
    {
     "name": "stdout",
     "output_type": "stream",
     "text": [
      "youneedpython\n",
      "youneedpython\n",
      "youneedpython\n"
     ]
    }
   ],
   "source": [
    "print(\"you\" \"need\" \"python\")\n",
    "print(\"you\"+\"need\"+\"python\")\n",
    "print(\"\".join([\"you\", \"need\", \"python\"]))"
   ]
  },
  {
   "cell_type": "code",
   "execution_count": 30,
   "id": "b1efbffb",
   "metadata": {},
   "outputs": [
    {
     "name": "stdout",
     "output_type": "stream",
     "text": [
      "you need python\n"
     ]
    }
   ],
   "source": [
    "print(\"you\", \"need\", \"python\")"
   ]
  },
  {
   "cell_type": "markdown",
   "id": "c381378d",
   "metadata": {},
   "source": [
    "→ 콤마(,) 가 있는 경우에는 공백이 삽입되어 더해진다."
   ]
  },
  {
   "cell_type": "markdown",
   "id": "f4fa62d7",
   "metadata": {},
   "source": [
    "Q5. 다음은 \"test.txt\"라는 파일에 \"Life is too short\" 문자열을 저장한 후 다시 그 파일을 읽어서 출력하는 프로그램이다.  \n",
    "\n",
    "f1 = open(\"test.txt\", 'w')  \n",
    "f1.write(\"Life is too short\")  \n",
    "\n",
    "f2 = open(\"test.txt\", 'r')  \n",
    "print(f2.read())  \n",
    "\n",
    "이 프로그램은 우리가 예상한 \"Life is too short\"라는 문장을 출력하지 않는다.   \n",
    "우리가 예상한 값을 출력할 수 있도록 프로그램을 수정해보자."
   ]
  },
  {
   "cell_type": "markdown",
   "id": "b10598ff",
   "metadata": {},
   "source": [
    "- 파일 객체 = open(파일 이름, 파일 열기 모드)"
   ]
  },
  {
   "cell_type": "code",
   "execution_count": 97,
   "id": "83ebfefb",
   "metadata": {},
   "outputs": [],
   "source": [
    "f1 = open('test.txt', 'w') # 쓰기모드 - 파일에 내용을 쓸 때 사용\n",
    "f1.write('Life is too short')\n",
    "f1.close()"
   ]
  },
  {
   "cell_type": "code",
   "execution_count": 98,
   "id": "a3ebf058",
   "metadata": {},
   "outputs": [],
   "source": [
    "f2 = open('test.txt', 'r') # 읽기모드 - 파일을 읽기만 할 때 사용\n",
    "f2.read()\n",
    "f2.close()"
   ]
  },
  {
   "cell_type": "markdown",
   "id": "03873659",
   "metadata": {},
   "source": [
    "Q6. 사용자의 입력을 파일(test.txt)에 저장하는 프로그램을 작성해 보자. (단 프로그램을 다시 실행하더라도 기존에 작성한 내용을 유지하고 새로 입력한 내용을 추가해야 한다.)"
   ]
  },
  {
   "cell_type": "code",
   "execution_count": 99,
   "id": "d31b56b0",
   "metadata": {},
   "outputs": [],
   "source": [
    "f3 = open('test.txt', 'a')\n",
    "f3.write('\\nAdd')\n",
    "f3.close()"
   ]
  },
  {
   "cell_type": "code",
   "execution_count": 100,
   "id": "f830379a",
   "metadata": {},
   "outputs": [],
   "source": [
    "f4 = open('test.txt', 'r')\n",
    "f4.read()\n",
    "f4.close()"
   ]
  },
  {
   "cell_type": "markdown",
   "id": "e321a3c7",
   "metadata": {},
   "source": [
    "Q7. 다음과 같은 내용을 지닌 파일 test.txt가 있다.  \n",
    "이 파일의 내용 중 \"java\"라는 문자열을 \"python\"으로 바꾸어서 저장해 보자.  \n",
    "\n",
    "Life is too short  \n",
    "you need java\n",
    "> ※ replace 함수를 사용해 보자."
   ]
  },
  {
   "cell_type": "markdown",
   "id": "6cf5ebb4",
   "metadata": {},
   "source": [
    "- replace(바뀌게 될 문자열, 바꿀 문자열)"
   ]
  },
  {
   "cell_type": "code",
   "execution_count": 101,
   "id": "49bc3c2c",
   "metadata": {},
   "outputs": [],
   "source": [
    "f = open('test.txt', 'w')\n",
    "f.write('Life is too short\\nyou need java')\n",
    "f.close()"
   ]
  },
  {
   "cell_type": "code",
   "execution_count": 102,
   "id": "2ac3554a",
   "metadata": {},
   "outputs": [],
   "source": [
    "f = open('test.txt', 'r')\n",
    "r = f.read()\n",
    "r1 = r.replace('java', 'python')\n",
    "\n",
    "f = open('test.txt', 'w')\n",
    "f.write(r1)\n",
    "f.close()"
   ]
  },
  {
   "cell_type": "code",
   "execution_count": 104,
   "id": "04828252",
   "metadata": {},
   "outputs": [],
   "source": [
    "f = open('test.txt', 'r')\n",
    "f.read()\n",
    "f.close()"
   ]
  }
 ],
 "metadata": {
  "kernelspec": {
   "display_name": "Python 3",
   "language": "python",
   "name": "python3"
  },
  "language_info": {
   "codemirror_mode": {
    "name": "ipython",
    "version": 3
   },
   "file_extension": ".py",
   "mimetype": "text/x-python",
   "name": "python",
   "nbconvert_exporter": "python",
   "pygments_lexer": "ipython3",
   "version": "3.8.8"
  }
 },
 "nbformat": 4,
 "nbformat_minor": 5
}
