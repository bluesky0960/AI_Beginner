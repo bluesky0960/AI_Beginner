{
 "cells": [
  {
   "cell_type": "markdown",
   "id": "235b2bfa",
   "metadata": {},
   "source": [
    "Q1. 다음은 Calculator 클래스이다.\n",
    "\n",
    "class Calculator:  \n",
    "\n",
    "    def __init__(self):  \n",
    "        self.value = 0  \n",
    "\n",
    "    def add(self, val):  \n",
    "        self.value += val\n",
    "\n",
    "위 클래스를 상속하는 UpgradeCalculator를 만들고 값을 뺄 수 있는 minus 메서드를 추가해 보자.   \n",
    "즉 다음과 같이 동작하는 클래스를 만들어야 한다."
   ]
  },
  {
   "cell_type": "markdown",
   "id": "7875a44f",
   "metadata": {},
   "source": [
    "cal = UpgradeCalculator()  \n",
    "cal.add(10)  \n",
    "cal.minus(7)  \n",
    "\n",
    "print(cal.value) # 10에서 7을 뺀 3을 출력"
   ]
  },
  {
   "cell_type": "code",
   "execution_count": 1,
   "id": "3635ca4e",
   "metadata": {},
   "outputs": [],
   "source": [
    "class Calculator:\n",
    "    def __init__(self):\n",
    "        self.value = 0\n",
    "\n",
    "    def add(self, val):\n",
    "        self.value += val"
   ]
  },
  {
   "cell_type": "code",
   "execution_count": 4,
   "id": "81a06d1d",
   "metadata": {},
   "outputs": [],
   "source": [
    "class UpgradeCalculator(Calculator) :\n",
    "    def minus(self, a) :\n",
    "        self.value -= a"
   ]
  },
  {
   "cell_type": "code",
   "execution_count": 5,
   "id": "f6e6eea4",
   "metadata": {},
   "outputs": [
    {
     "name": "stdout",
     "output_type": "stream",
     "text": [
      "3\n"
     ]
    }
   ],
   "source": [
    "cal = UpgradeCalculator()\n",
    "cal.add(10)\n",
    "cal.minus(7)\n",
    "\n",
    "print(cal.value) # 10에서 7을 뺀 3을 출력"
   ]
  },
  {
   "cell_type": "markdown",
   "id": "45c78c23",
   "metadata": {},
   "source": [
    "Q2. 객체변수 value가 100 이상의 값은 가질 수 없도록 제한하는 MaxLimitCalculator 클래스를 만들어 보자.  \n",
    "즉 다음과 같이 동작해야 한다.\n",
    "\n",
    "cal = MaxLimitCalculator()  \n",
    "cal.add(50) # 50 더하기  \n",
    "cal.add(60) # 60 더하기  \n",
    "\n",
    "print(cal.value) # 100 출력"
   ]
  },
  {
   "cell_type": "markdown",
   "id": "cce56ae0",
   "metadata": {},
   "source": [
    "단 반드시 다음과 같은 Calculator 클래스를 상속해서 만들어야 한다.\n",
    "\n",
    "class Calculator:\n",
    "\n",
    "    def __init__(self):\n",
    "        self.value = 0\n",
    "\n",
    "    def add(self, val):\n",
    "        self.value += val"
   ]
  },
  {
   "cell_type": "code",
   "execution_count": 29,
   "id": "969b574e",
   "metadata": {},
   "outputs": [],
   "source": [
    "class Calculator:\n",
    "    def __init__(self):\n",
    "        self.value = 0\n",
    "\n",
    "    def add(self, val):\n",
    "        self.value += val"
   ]
  },
  {
   "cell_type": "code",
   "execution_count": 35,
   "id": "2d17fa14",
   "metadata": {},
   "outputs": [],
   "source": [
    "class MaxLimitCalculator(Calculator) :\n",
    "    def add(self, val) : \n",
    "        self.value += val\n",
    "        if self.value > 100 :\n",
    "            self.value = 100\n",
    "        else :\n",
    "            self.value"
   ]
  },
  {
   "cell_type": "code",
   "execution_count": 36,
   "id": "cec34e84",
   "metadata": {},
   "outputs": [
    {
     "name": "stdout",
     "output_type": "stream",
     "text": [
      "100\n"
     ]
    }
   ],
   "source": [
    "cal = MaxLimitCalculator()\n",
    "cal.add(50) # 50 더하기\n",
    "cal.add(60) # 60 더하기\n",
    "\n",
    "print(cal.value) # 100 출력"
   ]
  },
  {
   "cell_type": "markdown",
   "id": "d0874ff3",
   "metadata": {},
   "source": [
    "Q3. 다음 결과를 예측해 보자.\n",
    "\n",
    "하나.\n",
    "\n",
    "> all([1, 2, abs(-3)-3])\n",
    "\n",
    "둘.\n",
    "\n",
    "> chr(ord('a')) == 'a'"
   ]
  },
  {
   "cell_type": "markdown",
   "id": "f6cfec84",
   "metadata": {},
   "source": [
    "- all(x) 함수 :  \n",
    "    반복 가능한(iterable) 자료형 x를 입력 인수로 받으며   \n",
    "    이 x의 요소가 모두 참이면 True,   \n",
    "    거짓이 하나라도 있으면 False를 돌려준다."
   ]
  },
  {
   "cell_type": "code",
   "execution_count": 40,
   "id": "5f43c4b8",
   "metadata": {},
   "outputs": [
    {
     "data": {
      "text/plain": [
       "False"
      ]
     },
     "execution_count": 40,
     "metadata": {},
     "output_type": "execute_result"
    }
   ],
   "source": [
    "all([1, 2, abs(-3)-3])"
   ]
  },
  {
   "cell_type": "markdown",
   "id": "e8e8ac49",
   "metadata": {},
   "source": [
    "→ 리스트 자료형 [1, 2, 0] 중에서  \n",
    "- 요소 0 은 거짓이므로 False"
   ]
  },
  {
   "cell_type": "markdown",
   "id": "f8bcc509",
   "metadata": {},
   "source": [
    "- ord(c) 함수 :  \n",
    "    문자의 유니코드 값을 돌려주는 함수"
   ]
  },
  {
   "cell_type": "code",
   "execution_count": 43,
   "id": "f6806b1a",
   "metadata": {},
   "outputs": [
    {
     "data": {
      "text/plain": [
       "97"
      ]
     },
     "execution_count": 43,
     "metadata": {},
     "output_type": "execute_result"
    }
   ],
   "source": [
    "ord('a')"
   ]
  },
  {
   "cell_type": "markdown",
   "id": "a97eb5ac",
   "metadata": {},
   "source": [
    "- chr(i) 함수 :  \n",
    "    유니코드(Unicode) 값을 입력받아  \n",
    "    그 코드에 해당하는 문자를 출력하는 함수"
   ]
  },
  {
   "cell_type": "code",
   "execution_count": 44,
   "id": "dd7bf1b3",
   "metadata": {},
   "outputs": [
    {
     "data": {
      "text/plain": [
       "'a'"
      ]
     },
     "execution_count": 44,
     "metadata": {},
     "output_type": "execute_result"
    }
   ],
   "source": [
    "chr(ord('a'))"
   ]
  },
  {
   "cell_type": "code",
   "execution_count": 42,
   "id": "d6c85e82",
   "metadata": {},
   "outputs": [
    {
     "data": {
      "text/plain": [
       "True"
      ]
     },
     "execution_count": 42,
     "metadata": {},
     "output_type": "execute_result"
    }
   ],
   "source": [
    "chr(ord('a')) == 'a'"
   ]
  },
  {
   "cell_type": "markdown",
   "id": "eeee600f",
   "metadata": {},
   "source": [
    "Q4. filter와 lambda를 사용하여  \n",
    "리스트 [1, -2, 3, -5, 8, -3]에서 음수를 모두 제거해 보자."
   ]
  },
  {
   "cell_type": "markdown",
   "id": "cb753ddd",
   "metadata": {},
   "source": [
    "- filter(함수이름, 그 함수에 차례로 들어갈 반복 가능한 자료형)  \n",
    "- filter(function, iterable)  \n",
    "- iterable : set, list, tuple"
   ]
  },
  {
   "cell_type": "code",
   "execution_count": 47,
   "id": "69a95700",
   "metadata": {},
   "outputs": [
    {
     "data": {
      "text/plain": [
       "[1, 3, 8]"
      ]
     },
     "execution_count": 47,
     "metadata": {},
     "output_type": "execute_result"
    }
   ],
   "source": [
    "list(filter(lambda x: x > 0, [1, -2, 3, -5, 8, -3]))"
   ]
  },
  {
   "cell_type": "markdown",
   "id": "99490ed0",
   "metadata": {},
   "source": [
    "Q5. 234라는 10진수의 16진수는 다음과 같이 구할 수 있다.\n",
    "\n",
    "> hex(234)  \n",
    "'0xea'\n",
    "\n",
    "이번에는 반대로 16진수 문자열 0xea를 10진수로 변경해 보자.\n",
    "\n",
    "※ 내장 함수 int를 활용해 보자."
   ]
  },
  {
   "cell_type": "markdown",
   "id": "34066608",
   "metadata": {},
   "source": [
    "- hex(x) 함수 :  \n",
    "    정수 값을 입력받아  \n",
    "    16진수(hexadecimal)로 변환하여 돌려주는 함수"
   ]
  },
  {
   "cell_type": "code",
   "execution_count": 48,
   "id": "92901442",
   "metadata": {},
   "outputs": [
    {
     "data": {
      "text/plain": [
       "'0xea'"
      ]
     },
     "execution_count": 48,
     "metadata": {},
     "output_type": "execute_result"
    }
   ],
   "source": [
    "hex(234)"
   ]
  },
  {
   "cell_type": "markdown",
   "id": "8485461b",
   "metadata": {},
   "source": [
    "- int(x) 함수 :  \n",
    "문자열 형태의 숫자나 소수점이 있는 숫자 등을  \n",
    "정수 형태로 돌려주는 함수로,  \n",
    "정수를 입력으로 받으면 그대로 돌려준다."
   ]
  },
  {
   "cell_type": "code",
   "execution_count": 55,
   "id": "2bcc726d",
   "metadata": {},
   "outputs": [
    {
     "name": "stdout",
     "output_type": "stream",
     "text": [
      "234\n",
      "234\n"
     ]
    }
   ],
   "source": [
    "# 16진수 문자열 0xea를 10진수로 변경\n",
    "\n",
    "print(int(hex(234), 16))\n",
    "\n",
    "print(int('0xea', 16))"
   ]
  },
  {
   "cell_type": "markdown",
   "id": "3b1c3297",
   "metadata": {},
   "source": [
    "Q6. map과 lambda를 사용하여 [1, 2, 3, 4] 리스트의 각 요솟값에 3이 곱해진 리스트 [3, 6, 9, 12]를 만들어 보자."
   ]
  },
  {
   "cell_type": "code",
   "execution_count": 74,
   "id": "74c07f2a",
   "metadata": {},
   "outputs": [
    {
     "data": {
      "text/plain": [
       "[3, 6, 9, 12]"
      ]
     },
     "execution_count": 74,
     "metadata": {},
     "output_type": "execute_result"
    }
   ],
   "source": [
    "list(map(lambda x: x*3, [1, 2, 3, 4]))"
   ]
  },
  {
   "cell_type": "markdown",
   "id": "59f972dd",
   "metadata": {},
   "source": [
    "Q7. 다음 리스트의 최댓값과 최솟값의 합을 구해 보자.\n",
    "\n",
    "[-8, 2, 7, 5, -3, 5, 0, 1]"
   ]
  },
  {
   "cell_type": "code",
   "execution_count": 76,
   "id": "3394b525",
   "metadata": {},
   "outputs": [
    {
     "name": "stdout",
     "output_type": "stream",
     "text": [
      "최댓값: 7\n",
      "최솟값: -8\n",
      "합: -1\n"
     ]
    }
   ],
   "source": [
    "list1 = [-8, 2, 7, 5, -3, 5, 0, 1]\n",
    "print('최댓값: {}'.format(max(list1)))\n",
    "print('최솟값: {}'.format(min(list1)))\n",
    "print('합: {}'.format(max(list1) + min(list1)))"
   ]
  },
  {
   "cell_type": "markdown",
   "id": "c16a8b92",
   "metadata": {},
   "source": [
    "Q8. 17 / 3의 결과는 다음과 같다.\n",
    "\n",
    "> 17 / 3  \n",
    "5.666666666666667\n",
    "\n",
    "위와 같은 결괏값 5.666666666666667을 소숫점 4자리까지만 반올림하여 표시해 보자."
   ]
  },
  {
   "cell_type": "code",
   "execution_count": 64,
   "id": "bd0dd146",
   "metadata": {},
   "outputs": [
    {
     "data": {
      "text/plain": [
       "5.6667"
      ]
     },
     "execution_count": 64,
     "metadata": {},
     "output_type": "execute_result"
    }
   ],
   "source": [
    "a = 17 / 3\n",
    "round(a, 4)"
   ]
  },
  {
   "cell_type": "markdown",
   "id": "89a1126a",
   "metadata": {},
   "source": [
    "Q12. time 모듈을 사용하여 현재 날짜와 시간을 다음과 같은 형식으로 출력해 보자.\n",
    "\n",
    "> 2018/04/03 17:20:32"
   ]
  },
  {
   "cell_type": "markdown",
   "id": "701f3ccf",
   "metadata": {},
   "source": [
    "- time() 모듈 :  \n",
    "UTC(Universal Time Coordinated 협정 세계 표준시)를 사용  \n",
    "현재 시간을 실수 형태로 돌려주는 함수"
   ]
  },
  {
   "cell_type": "code",
   "execution_count": 91,
   "id": "9070c583",
   "metadata": {},
   "outputs": [],
   "source": [
    "import time"
   ]
  },
  {
   "cell_type": "markdown",
   "id": "fb5095a2",
   "metadata": {},
   "source": [
    "- time.strftime()함수 :  \n",
    "    time.strftime('출력할 형식 포맷 코드', time.localtime(time.time()))"
   ]
  },
  {
   "cell_type": "code",
   "execution_count": 105,
   "id": "3c82fc7f",
   "metadata": {},
   "outputs": [
    {
     "data": {
      "text/plain": [
       "'2022/01/11 23:50:00'"
      ]
     },
     "execution_count": 105,
     "metadata": {},
     "output_type": "execute_result"
    }
   ],
   "source": [
    "time.strftime('%Y/%m/%d %H:%M:%S')"
   ]
  },
  {
   "cell_type": "markdown",
   "id": "137fd741",
   "metadata": {},
   "source": [
    "Q13. random 모듈을 사용하여 로또 번호(1~45 사이의 숫자 6개)를 생성해 보자(단 중복된 숫자가 있으면 안 됨)."
   ]
  },
  {
   "cell_type": "markdown",
   "id": "0c2b0643",
   "metadata": {},
   "source": [
    "- random모듈 : 난수(규칙이 없는 임의의 수)를 발생시키는 모듈"
   ]
  },
  {
   "cell_type": "code",
   "execution_count": 79,
   "id": "ea5f39f8",
   "metadata": {},
   "outputs": [],
   "source": [
    "import random"
   ]
  },
  {
   "cell_type": "markdown",
   "id": "1cde9e86",
   "metadata": {},
   "source": [
    "- random.randint(a, b) : a에서 b사이의 정수 중에서 난수 값을 돌려준다."
   ]
  },
  {
   "cell_type": "code",
   "execution_count": 83,
   "id": "24c754c6",
   "metadata": {},
   "outputs": [
    {
     "data": {
      "text/plain": [
       "8"
      ]
     },
     "execution_count": 83,
     "metadata": {},
     "output_type": "execute_result"
    }
   ],
   "source": [
    "random.randint(1, 45)"
   ]
  },
  {
   "cell_type": "code",
   "execution_count": 88,
   "id": "ac768c38",
   "metadata": {},
   "outputs": [
    {
     "name": "stdout",
     "output_type": "stream",
     "text": [
      "27\n",
      "30\n",
      "4\n",
      "11\n",
      "39\n",
      "23\n"
     ]
    }
   ],
   "source": [
    "# 방법1\n",
    "\n",
    "for _ in range(6) :\n",
    "    n = random.randint(1, 45)\n",
    "    print(n)"
   ]
  },
  {
   "cell_type": "code",
   "execution_count": 89,
   "id": "6bce84b5",
   "metadata": {},
   "outputs": [
    {
     "data": {
      "text/plain": [
       "[44, 40, 7, 19, 18, 9]"
      ]
     },
     "execution_count": 89,
     "metadata": {},
     "output_type": "execute_result"
    }
   ],
   "source": [
    "# 방법2\n",
    "\n",
    "[random.randint(1, 45) for _ in range(6)]"
   ]
  },
  {
   "cell_type": "code",
   "execution_count": 90,
   "id": "e3e58caa",
   "metadata": {},
   "outputs": [
    {
     "name": "stdout",
     "output_type": "stream",
     "text": [
      "[29, 27, 7, 9, 37, 13]\n"
     ]
    }
   ],
   "source": [
    "# 방법3\n",
    "\n",
    "result = []\n",
    "while len(result) < 6:\n",
    "    num = random.randint(1, 45)   # 1부터 45까지의 난수 발생\n",
    "    if num not in result:\n",
    "        result.append(num)\n",
    "\n",
    "print(result)"
   ]
  }
 ],
 "metadata": {
  "kernelspec": {
   "display_name": "Python 3",
   "language": "python",
   "name": "python3"
  },
  "language_info": {
   "codemirror_mode": {
    "name": "ipython",
    "version": 3
   },
   "file_extension": ".py",
   "mimetype": "text/x-python",
   "name": "python",
   "nbconvert_exporter": "python",
   "pygments_lexer": "ipython3",
   "version": "3.8.8"
  }
 },
 "nbformat": 4,
 "nbformat_minor": 5
}
