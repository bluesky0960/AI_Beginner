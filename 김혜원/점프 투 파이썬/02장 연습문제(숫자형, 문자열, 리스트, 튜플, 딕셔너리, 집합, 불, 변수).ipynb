{
 "cells": [
  {
   "cell_type": "markdown",
   "id": "5d487a98",
   "metadata": {},
   "source": [
    "# 점프 투 파이썬\n",
    "책 url = https://wikidocs.net/book/1"
   ]
  },
  {
   "cell_type": "markdown",
   "id": "b8a806dc",
   "metadata": {},
   "source": [
    "Q1. 홍길동 씨의 과목별 점수는 다음과 같다. 홍길동 씨의 평균 점수를 구해 보자.  \n",
    "과목 점수  \n",
    "국어 80  \n",
    "영어 75  \n",
    "수학 55"
   ]
  },
  {
   "cell_type": "code",
   "execution_count": 5,
   "id": "6d1846eb",
   "metadata": {},
   "outputs": [],
   "source": [
    "import numpy as np"
   ]
  },
  {
   "cell_type": "code",
   "execution_count": 14,
   "id": "c9d188d7",
   "metadata": {},
   "outputs": [
    {
     "data": {
      "text/plain": [
       "dict_values([80, 75, 55])"
      ]
     },
     "execution_count": 14,
     "metadata": {},
     "output_type": "execute_result"
    }
   ],
   "source": [
    "dict1 = {'kor': 80, 'eng': 75, 'math': 55}\n",
    "score = list(dict1.values())\n",
    "np.mean(score)"
   ]
  },
  {
   "cell_type": "markdown",
   "id": "e612c397",
   "metadata": {},
   "source": [
    "Q2. 자연수 13이 홀수인지 짝수인지 판별할 수 있는 방법에 대해 말해 보자."
   ]
  },
  {
   "cell_type": "code",
   "execution_count": 18,
   "id": "bf82a0d7",
   "metadata": {},
   "outputs": [
    {
     "name": "stdout",
     "output_type": "stream",
     "text": [
      "홀수\n"
     ]
    }
   ],
   "source": [
    "if 13 % 2 == 1 :\n",
    "    print('홀수')\n",
    "else :\n",
    "    print('짝수')"
   ]
  },
  {
   "cell_type": "markdown",
   "id": "ed613ff0",
   "metadata": {},
   "source": [
    "Q3. 홍길동 씨의 주민등록번호는 881120-1068234이다. 홍길동 씨의 주민등록번호를 연월일(YYYYMMDD) 부분과 그 뒤의 숫자 부분으로 나누어 출력해 보자.  \n",
    "> ※ 문자열 슬라이싱 기법을 사용해 보자."
   ]
  },
  {
   "cell_type": "code",
   "execution_count": 22,
   "id": "784d8021",
   "metadata": {},
   "outputs": [
    {
     "data": {
      "text/plain": [
       "['881120', '1068234']"
      ]
     },
     "execution_count": 22,
     "metadata": {},
     "output_type": "execute_result"
    }
   ],
   "source": [
    "id_number = '881120-1068234'\n",
    "id_number.split('-')"
   ]
  },
  {
   "cell_type": "code",
   "execution_count": 35,
   "id": "f39b4937",
   "metadata": {},
   "outputs": [
    {
     "name": "stdout",
     "output_type": "stream",
     "text": [
      "홍길동 씨의 주민등록번호를 연월일(YYYYMMDD) 부분: 19881120\n",
      "그 뒤의 숫자 부분: 1068234\n"
     ]
    }
   ],
   "source": [
    "n = '19' + id_number[:6]\n",
    "print('홍길동 씨의 주민등록번호를 연월일(YYYYMMDD) 부분: {}'.format(n))\n",
    "\n",
    "e = id_number.split('-')[1]\n",
    "print('그 뒤의 숫자 부분: {}'.format(e))"
   ]
  },
  {
   "cell_type": "markdown",
   "id": "89b97efa",
   "metadata": {},
   "source": [
    "Q4. 주민등록번호 뒷자리의 맨 첫 번째 숫자는 성별을 나타낸다. 주민등록번호에서 성별을 나타내는 숫자를 출력해 보자.\n",
    "\n",
    "> pin = \"881120-1068234\"  \n",
    "> ※ 문자열 인덱싱을 사용해 보자."
   ]
  },
  {
   "cell_type": "code",
   "execution_count": 40,
   "id": "ca53cbab",
   "metadata": {},
   "outputs": [
    {
     "name": "stdout",
     "output_type": "stream",
     "text": [
      "남자\n"
     ]
    }
   ],
   "source": [
    "pin = \"881120-1068234\"\n",
    "sex = pin.split('-')[1][0]\n",
    "\n",
    "if sex == '1' :\n",
    "    print('남자')\n",
    "else :\n",
    "    print('여자')"
   ]
  },
  {
   "cell_type": "markdown",
   "id": "0b6f17a1",
   "metadata": {},
   "source": [
    "Q5. 다음과 같은 문자열 a:b:c:d가 있다. 문자열의 replace 함수를 사용하여 a#b#c#d로 바꿔서 출력해 보자.\n",
    "\n",
    "> a = \"a:b:c:d\""
   ]
  },
  {
   "cell_type": "code",
   "execution_count": 44,
   "id": "4615102d",
   "metadata": {},
   "outputs": [
    {
     "data": {
      "text/plain": [
       "'a#b#c#d'"
      ]
     },
     "execution_count": 44,
     "metadata": {},
     "output_type": "execute_result"
    }
   ],
   "source": [
    "a = \"a:b:c:d\"\n",
    "\n",
    "# replace(바뀌게 될 문자열, 바꿀 문자열)\n",
    "a.replace(':', '#')"
   ]
  },
  {
   "cell_type": "markdown",
   "id": "5c763481",
   "metadata": {},
   "source": [
    "Q6. [1, 3, 5, 4, 2] 리스트를 [5, 4, 3, 2, 1]로 만들어 보자.\n",
    "\n",
    "※ 리스트의 내장 함수를 사용해 보자."
   ]
  },
  {
   "cell_type": "code",
   "execution_count": 64,
   "id": "46a82568",
   "metadata": {},
   "outputs": [
    {
     "name": "stdout",
     "output_type": "stream",
     "text": [
      "[5, 4, 3, 2, 1]\n"
     ]
    }
   ],
   "source": [
    "a =  [1, 3, 5, 4, 2] \n",
    "a.sort()\n",
    "a.reverse()\n",
    "print(a)"
   ]
  },
  {
   "cell_type": "markdown",
   "id": "d68f0e5a",
   "metadata": {},
   "source": [
    "Q7. ['Life', 'is', 'too', 'short'] 리스트를 Life is too short 문자열로 만들어 출력해 보자.\n",
    "\n",
    "※ 문자열의 join 함수를 사용하면 리스트를 문자열로 쉽게 만들 수 있다."
   ]
  },
  {
   "cell_type": "code",
   "execution_count": 70,
   "id": "aa06d45c",
   "metadata": {},
   "outputs": [
    {
     "name": "stdout",
     "output_type": "stream",
     "text": [
      "Life is too short\n"
     ]
    }
   ],
   "source": [
    "a = ['Life', 'is', 'too', 'short'] \n",
    "print(' '.join(a))"
   ]
  },
  {
   "cell_type": "markdown",
   "id": "8bad5ac9",
   "metadata": {},
   "source": [
    "Q8. (1,2,3) 튜플에 값 4를 추가하여 (1,2,3,4)를 만들어 출력해 보자.\n",
    "\n",
    "※ 더하기(+)를 사용해 보자."
   ]
  },
  {
   "cell_type": "code",
   "execution_count": 77,
   "id": "585fecd6",
   "metadata": {},
   "outputs": [
    {
     "data": {
      "text/plain": [
       "(1, 2, 3, 4)"
      ]
     },
     "execution_count": 77,
     "metadata": {},
     "output_type": "execute_result"
    }
   ],
   "source": [
    "t =(1, 2, 3)\n",
    "t += (4,)\n",
    "t"
   ]
  },
  {
   "cell_type": "markdown",
   "id": "66937766",
   "metadata": {},
   "source": [
    "Q9. 다음과 같은 딕셔너리 a가 있다.\n",
    "> a = dict()  \n",
    " a  \n",
    "{} \n",
    "\n",
    "다음 중 오류가 발생하는 경우를 고르고, 그 이유를 설명해 보자.\n",
    "\n",
    "1. a['name'] = 'python'\n",
    "2. a[('a',)] = 'python'\n",
    "3. a[[1]] = 'python'\n",
    "4. a[250] = 'python'"
   ]
  },
  {
   "cell_type": "code",
   "execution_count": 79,
   "id": "e8018b6e",
   "metadata": {},
   "outputs": [
    {
     "data": {
      "text/plain": [
       "{}"
      ]
     },
     "execution_count": 79,
     "metadata": {},
     "output_type": "execute_result"
    }
   ],
   "source": [
    "a = dict()\n",
    "a"
   ]
  },
  {
   "cell_type": "code",
   "execution_count": 80,
   "id": "34460fa8",
   "metadata": {},
   "outputs": [
    {
     "data": {
      "text/plain": [
       "{'name': 'python'}"
      ]
     },
     "execution_count": 80,
     "metadata": {},
     "output_type": "execute_result"
    }
   ],
   "source": [
    "a['name'] = 'python'\n",
    "a"
   ]
  },
  {
   "cell_type": "code",
   "execution_count": 81,
   "id": "f55fb332",
   "metadata": {},
   "outputs": [
    {
     "data": {
      "text/plain": [
       "{'name': 'python', ('a',): 'python'}"
      ]
     },
     "execution_count": 81,
     "metadata": {},
     "output_type": "execute_result"
    }
   ],
   "source": [
    "a[('a',)] = 'python'\n",
    "a"
   ]
  },
  {
   "cell_type": "code",
   "execution_count": 82,
   "id": "61e50704",
   "metadata": {},
   "outputs": [
    {
     "ename": "TypeError",
     "evalue": "unhashable type: 'list'",
     "output_type": "error",
     "traceback": [
      "\u001b[1;31m---------------------------------------------------------------------------\u001b[0m",
      "\u001b[1;31mTypeError\u001b[0m                                 Traceback (most recent call last)",
      "\u001b[1;32m<ipython-input-82-3976fbf303e6>\u001b[0m in \u001b[0;36m<module>\u001b[1;34m\u001b[0m\n\u001b[1;32m----> 1\u001b[1;33m \u001b[0ma\u001b[0m\u001b[1;33m[\u001b[0m\u001b[1;33m[\u001b[0m\u001b[1;36m1\u001b[0m\u001b[1;33m]\u001b[0m\u001b[1;33m]\u001b[0m \u001b[1;33m=\u001b[0m \u001b[1;34m'python'\u001b[0m\u001b[1;33m\u001b[0m\u001b[1;33m\u001b[0m\u001b[0m\n\u001b[0m",
      "\u001b[1;31mTypeError\u001b[0m: unhashable type: 'list'"
     ]
    }
   ],
   "source": [
    "a[[1]] = 'python'"
   ]
  },
  {
   "cell_type": "markdown",
   "id": "28c63a70",
   "metadata": {},
   "source": [
    "→ 딕셔너리를 만들 때 Key에 리스트는 쓸 수 없기 때문에 오류가 발생했다."
   ]
  },
  {
   "cell_type": "code",
   "execution_count": 84,
   "id": "de3662fc",
   "metadata": {},
   "outputs": [
    {
     "data": {
      "text/plain": [
       "{'name': 'python', ('a',): 'python', 250: 'python'}"
      ]
     },
     "execution_count": 84,
     "metadata": {},
     "output_type": "execute_result"
    }
   ],
   "source": [
    "a[250] = 'python'\n",
    "a"
   ]
  },
  {
   "cell_type": "markdown",
   "id": "81d54178",
   "metadata": {},
   "source": [
    "Q10. 딕셔너리 a에서 'B'에 해당되는 값을 추출해 보자.\n",
    "\n",
    "> a = {'A':90, 'B':80, 'C':70}  \n",
    "\n",
    "※ 딕셔너리의 pop 함수를 사용해 보자."
   ]
  },
  {
   "cell_type": "code",
   "execution_count": 88,
   "id": "e8558904",
   "metadata": {},
   "outputs": [
    {
     "name": "stdout",
     "output_type": "stream",
     "text": [
      "80\n",
      "80\n"
     ]
    }
   ],
   "source": [
    "a = {'A':90, 'B':80, 'C':70}\n",
    "print(a['B'])\n",
    "print(a.pop('B'))"
   ]
  },
  {
   "cell_type": "markdown",
   "id": "4ab47afa",
   "metadata": {},
   "source": [
    "Q11. a 리스트에서 중복 숫자를 제거해 보자.\n",
    "\n",
    "> a = [1, 1, 1, 2, 2, 3, 3, 3, 4, 4, 5]\n",
    "\n",
    "※ 집합 자료형의 요솟값이 중복될 수 없다는 특징을 사용해 보자."
   ]
  },
  {
   "cell_type": "code",
   "execution_count": 90,
   "id": "1fcc91c9",
   "metadata": {},
   "outputs": [
    {
     "data": {
      "text/plain": [
       "{1, 2, 3, 4, 5}"
      ]
     },
     "execution_count": 90,
     "metadata": {},
     "output_type": "execute_result"
    }
   ],
   "source": [
    "a = [1, 1, 1, 2, 2, 3, 3, 3, 4, 4, 5]\n",
    "set(a)"
   ]
  },
  {
   "cell_type": "markdown",
   "id": "0bfff23d",
   "metadata": {},
   "source": [
    "Q12. 파이썬은 다음처럼 동일한 값에 여러 개의 변수를 선언할 수 있다. 다음과 같이 a, b 변수를 선언한 후 a의 두 번째 요솟값을 변경하면 b 값은 어떻게 될까? 그리고 이런 결과가 오는 이유에 대해 설명해 보자.\n",
    "\n",
    "> a = b = [1, 2, 3]  \n",
    " a[1] = 4  \n",
    " print(b)"
   ]
  },
  {
   "cell_type": "code",
   "execution_count": 91,
   "id": "3e9bdcf1",
   "metadata": {},
   "outputs": [
    {
     "name": "stdout",
     "output_type": "stream",
     "text": [
      "[1, 4, 3]\n"
     ]
    }
   ],
   "source": [
    "a = b = [1, 2, 3]\n",
    "a[1] = 4\n",
    "print(b)"
   ]
  },
  {
   "cell_type": "code",
   "execution_count": 93,
   "id": "cd5e80b8",
   "metadata": {},
   "outputs": [
    {
     "name": "stdout",
     "output_type": "stream",
     "text": [
      "1762713924992\n",
      "1762713924992\n"
     ]
    }
   ],
   "source": [
    "print(id(a))\n",
    "print(id(b))"
   ]
  },
  {
   "cell_type": "markdown",
   "id": "be6767cc",
   "metadata": {},
   "source": [
    "- a, b 변수를 선언한 후 a의 두 번째 요솟값을 변경하면 b 값도 변한다. a = b : a 와 b 가 완전히 동일하다는 의미.  \n",
    "- 이러한 결과가 나오는 이유는  \n",
    "id함수로 id(a)의 값과 id(b)의 값이 동일한것을 확인가능하다 = 변수a가 가리키는 대상과 변수b가 가리키는 대상이 동일하기 때문이다."
   ]
  },
  {
   "cell_type": "markdown",
   "id": "a93897cc",
   "metadata": {},
   "source": [
    "- a리스트 값을 바꾸더라도 b리스트에 영향을 미치지 않는 방법\n",
    "1. [:] 이용  \n",
    "2. copy() 모튤 이용"
   ]
  }
 ],
 "metadata": {
  "kernelspec": {
   "display_name": "Python 3",
   "language": "python",
   "name": "python3"
  },
  "language_info": {
   "codemirror_mode": {
    "name": "ipython",
    "version": 3
   },
   "file_extension": ".py",
   "mimetype": "text/x-python",
   "name": "python",
   "nbconvert_exporter": "python",
   "pygments_lexer": "ipython3",
   "version": "3.8.8"
  }
 },
 "nbformat": 4,
 "nbformat_minor": 5
}
